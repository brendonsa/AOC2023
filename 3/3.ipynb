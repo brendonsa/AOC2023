{
 "cells": [
  {
   "cell_type": "code",
   "execution_count": 41,
   "id": "ccffa6d9",
   "metadata": {},
   "outputs": [
    {
     "data": {
      "text/plain": [
       "''"
      ]
     },
     "execution_count": 41,
     "metadata": {},
     "output_type": "execute_result"
    }
   ],
   "source": [
    "data = open('3.txt', 'r').read().split('\\n')\n",
    "data.pop()"
   ]
  },
  {
   "cell_type": "code",
   "execution_count": 245,
   "id": "ac0ea12c",
   "metadata": {},
   "outputs": [],
   "source": [
    "class Number:\n",
    "    def __init__(self, number, position, size=(140,140)):\n",
    "        self.number = int(number)\n",
    "        self.position = position\n",
    "        self.data_size = size\n",
    "        self.adj_pos = self.adjacent_positions()\n",
    "        \n",
    "        \n",
    "    def __add__(self, o):\n",
    "        if isinstance(o, Number):\n",
    "            return self.number + o.number\n",
    "        else:\n",
    "            return self.number + o\n",
    "        \n",
    "    def __radd__(self, o):\n",
    "        if isinstance(o, Number):\n",
    "            return self.number + o.number\n",
    "        else:\n",
    "            return self.number + o\n",
    "        \n",
    "    def __repr__(self):\n",
    "        return str(self.number)\n",
    "    \n",
    "    def __to_str__(self):\n",
    "        return str(self.number)\n",
    "    \n",
    "    @property\n",
    "    def length(self):\n",
    "        return len(str(self.number))\n",
    "        \n",
    "    @property\n",
    "    def positions(self):\n",
    "        return [(self.position[0],self.position[1]+i) for i in range(self.length)]\n",
    "    \n",
    "    def adjacent_positions(self):\n",
    "        adjacent = [(0,-1),(-1,-1),(-1,0),(-1,1),(0,1),(1,1),(1,0),(1,-1)]\n",
    "        adj_positions = []\n",
    "        for pos in self.positions:\n",
    "            for a in adjacent:\n",
    "                adj_positions.append((pos[0]+a[0],pos[1]+a[1]))\n",
    "                if adj_positions[-1][0] < 0 or adj_positions[-1][1] < 0:\n",
    "                    adj_positions.pop()\n",
    "                elif adj_positions[-1][0] >= self.data_size[0] or adj_positions[-1][1] >= self.data_size[1]:\n",
    "                    adj_positions.pop()\n",
    "                elif adj_positions[-1] in self.positions:\n",
    "                    adj_positions.pop()\n",
    "                elif adj_positions[-1] in adj_positions[:-1]:\n",
    "                    adj_positions.pop()\n",
    "        return adj_positions\n",
    "    \n",
    "    def surrounding_elements(self, data):\n",
    "        return [data[i][j] for i, j in self.adj_pos]\n",
    "        "
   ]
  },
  {
   "cell_type": "code",
   "execution_count": 246,
   "id": "fd9acf72",
   "metadata": {},
   "outputs": [
    {
     "data": {
      "text/plain": [
       "['679', '662', '71', '805', '862', '680', '687']"
      ]
     },
     "execution_count": 246,
     "metadata": {},
     "output_type": "execute_result"
    }
   ],
   "source": [
    "import re\n",
    "\n",
    "re.findall(r'(\\d+)',data[0])"
   ]
  },
  {
   "cell_type": "code",
   "execution_count": 247,
   "id": "7bbe6cfe",
   "metadata": {},
   "outputs": [
    {
     "data": {
      "text/plain": [
       "'.679.....662....71............................805..........862.680...................................................................687....'"
      ]
     },
     "execution_count": 247,
     "metadata": {},
     "output_type": "execute_result"
    }
   ],
   "source": [
    "data[0]"
   ]
  },
  {
   "cell_type": "code",
   "execution_count": 248,
   "id": "383b8221",
   "metadata": {},
   "outputs": [],
   "source": [
    "data2 = '''467..114..\n",
    "...*......\n",
    "..35..633.\n",
    "......#...\n",
    "617*......\n",
    ".....+.58.\n",
    "..592.....\n",
    "......755.\n",
    "...$.*....\n",
    ".664.598..'''\n",
    "data2 = data2.split('\\n')"
   ]
  },
  {
   "cell_type": "code",
   "execution_count": 259,
   "id": "64eae4d7",
   "metadata": {},
   "outputs": [],
   "source": [
    "numbers = []\n",
    "for idx,d in enumerate(data):\n",
    "    for match in re.finditer(r'(\\d+)',d):\n",
    "        numbers.append(Number(match.group(), (idx,match.span()[0]), size=(len(data),len(data))))\n"
   ]
  },
  {
   "cell_type": "code",
   "execution_count": 260,
   "id": "3aef5be7",
   "metadata": {},
   "outputs": [],
   "source": [
    "symbols = set()\n",
    "non_symbols = [str(i) for i in range(10)] + ['.']\n",
    "for d in data:\n",
    "    for s in set(d):\n",
    "        if s in non_symbols:\n",
    "            continue\n",
    "        else:\n",
    "            symbols.add(s)"
   ]
  },
  {
   "cell_type": "code",
   "execution_count": 296,
   "id": "77579dd0",
   "metadata": {},
   "outputs": [
    {
     "data": {
      "text/plain": [
       "528799"
      ]
     },
     "execution_count": 296,
     "metadata": {},
     "output_type": "execute_result"
    }
   ],
   "source": [
    "sum_parts = 0 \n",
    "for idx,n in enumerate(numbers):\n",
    "    set_surrounding = set(n.surrounding_elements(data))\n",
    "    if not set_surrounding.isdisjoint(symbols):\n",
    "        sum_parts+=n\n",
    "sum_parts"
   ]
  },
  {
   "cell_type": "code",
   "execution_count": 297,
   "id": "901bd39c",
   "metadata": {},
   "outputs": [
    {
     "data": {
      "text/plain": [
       "84907174"
      ]
     },
     "execution_count": 297,
     "metadata": {},
     "output_type": "execute_result"
    }
   ],
   "source": [
    "sum_gear_ratio = 0\n",
    "\n",
    "for idx, d in enumerate(data):\n",
    "    for pos in [m.start() for m in re.finditer('\\*', d)]:\n",
    "        position_gear = (idx,pos)\n",
    "        filtered_numbers = list(filter(lambda x: position_gear in x.adj_pos,numbers))\n",
    "        if len(filtered_numbers) == 2:\n",
    "            sum_gear_ratio += filtered_numbers[0].number * filtered_numbers[1].number\n",
    "sum_gear_ratio"
   ]
  },
  {
   "cell_type": "code",
   "execution_count": null,
   "id": "5b110db3",
   "metadata": {},
   "outputs": [],
   "source": []
  }
 ],
 "metadata": {
  "hide_input": false,
  "kernelspec": {
   "display_name": "Python 3 (ipykernel)",
   "language": "python",
   "name": "python3"
  },
  "language_info": {
   "codemirror_mode": {
    "name": "ipython",
    "version": 3
   },
   "file_extension": ".py",
   "mimetype": "text/x-python",
   "name": "python",
   "nbconvert_exporter": "python",
   "pygments_lexer": "ipython3",
   "version": "3.10.10"
  },
  "varInspector": {
   "cols": {
    "lenName": 16,
    "lenType": 16,
    "lenVar": 40
   },
   "kernels_config": {
    "python": {
     "delete_cmd_postfix": "",
     "delete_cmd_prefix": "del ",
     "library": "var_list.py",
     "varRefreshCmd": "print(var_dic_list())"
    },
    "r": {
     "delete_cmd_postfix": ") ",
     "delete_cmd_prefix": "rm(",
     "library": "var_list.r",
     "varRefreshCmd": "cat(var_dic_list()) "
    }
   },
   "types_to_exclude": [
    "module",
    "function",
    "builtin_function_or_method",
    "instance",
    "_Feature"
   ],
   "window_display": false
  }
 },
 "nbformat": 4,
 "nbformat_minor": 5
}
