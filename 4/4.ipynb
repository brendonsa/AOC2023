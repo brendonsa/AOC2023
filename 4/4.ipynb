{
 "cells": [
  {
   "cell_type": "code",
   "execution_count": 46,
   "id": "b5e207df",
   "metadata": {
    "ExecuteTime": {
     "end_time": "2023-12-04T07:19:32.265126Z",
     "start_time": "2023-12-04T07:19:32.261744Z"
    }
   },
   "outputs": [],
   "source": [
    "data = open('4.txt', 'r').read()\n",
    "data.replace('  ', ' ')\n",
    "data = data.split('\\n')\n",
    "data.pop()\n",
    "import numpy as np"
   ]
  },
  {
   "cell_type": "code",
   "execution_count": 31,
   "id": "656ee6fd",
   "metadata": {
    "ExecuteTime": {
     "end_time": "2023-12-04T07:12:20.229174Z",
     "start_time": "2023-12-04T07:12:20.226092Z"
    }
   },
   "outputs": [],
   "source": [
    "data = '''Card 1: 41 48 83 86 17 | 83 86  6 31 17  9 48 53\n",
    "Card 2: 13 32 20 16 61 | 61 30 68 82 17 32 24 19\n",
    "Card 3:  1 21 53 59 44 | 69 82 63 72 16 21 14  1\n",
    "Card 4: 41 92 73 84 69 | 59 84 76 51 58  5 54 83\n",
    "Card 5: 87 83 26 28 32 | 88 30 70 12 93 22 82 36\n",
    "Card 6: 31 18 13 56 72 | 74 77 10 23 35 67 36 11'''\n",
    "data.replace('  ', ' ')\n",
    "data = data.split('\\n')"
   ]
  },
  {
   "cell_type": "code",
   "execution_count": 45,
   "id": "c4464267",
   "metadata": {
    "ExecuteTime": {
     "end_time": "2023-12-04T07:17:39.223538Z",
     "start_time": "2023-12-04T07:17:39.215110Z"
    }
   },
   "outputs": [
    {
     "name": "stdout",
     "output_type": "stream",
     "text": [
      "0 winning_numbers: [91, 73, 74, 57, 24, 99, 31, 70, 60, 8]\n",
      "1 winning_numbers: [92, 38, 67, 81, 28, 16, 82, 30, 11, 45]\n",
      "2 winning_numbers: [18, 76]\n",
      "3 winning_numbers: [88]\n",
      "5 winning_numbers: [31, 12, 68, 44, 5, 90, 2]\n",
      "6 winning_numbers: [95, 84, 91, 68, 23, 15, 76, 80, 30, 73]\n",
      "7 winning_numbers: [51, 78]\n",
      "8 winning_numbers: [18, 30, 91, 65, 25, 22, 99]\n",
      "9 winning_numbers: [32, 77, 59]\n",
      "10 winning_numbers: [63, 44, 6, 45, 66, 11, 93, 48, 18, 74]\n",
      "11 winning_numbers: [2]\n",
      "12 winning_numbers: [44, 90, 61]\n",
      "13 winning_numbers: [99]\n",
      "14 winning_numbers: [30, 70, 5]\n",
      "15 winning_numbers: [94]\n",
      "16 winning_numbers: [7, 80, 64, 99]\n",
      "17 winning_numbers: [77, 99]\n",
      "18 winning_numbers: [35, 75]\n",
      "20 winning_numbers: [31]\n",
      "22 winning_numbers: [60, 27, 1, 46, 47, 61, 98, 11, 95, 40]\n",
      "23 winning_numbers: [87, 17, 74, 69, 68, 50, 58, 33, 23, 73]\n",
      "24 winning_numbers: [65, 99, 7, 45, 6, 53]\n",
      "25 winning_numbers: [71, 30, 23, 27, 62, 16, 38, 97, 8, 57]\n",
      "26 winning_numbers: [38, 46, 70, 79, 64, 7, 40, 63, 60, 99]\n",
      "27 winning_numbers: [26]\n",
      "28 winning_numbers: [39, 49, 31, 36, 61, 94, 1]\n",
      "29 winning_numbers: [14, 34, 91, 79, 45, 98, 92, 46]\n",
      "30 winning_numbers: [53, 12, 68, 17, 44, 54, 29, 77, 92, 37]\n",
      "31 winning_numbers: [94]\n",
      "32 winning_numbers: [17, 65, 46]\n",
      "33 winning_numbers: [22, 76, 3, 16]\n",
      "34 winning_numbers: [38, 87, 89, 24]\n",
      "35 winning_numbers: [30, 81, 54, 91, 13, 6]\n",
      "36 winning_numbers: [91]\n",
      "37 winning_numbers: [21, 7, 13]\n",
      "38 winning_numbers: [58, 14, 3]\n",
      "39 winning_numbers: [49]\n",
      "42 winning_numbers: [89, 43, 72, 22, 94, 79, 26, 55, 13, 63]\n",
      "43 winning_numbers: [51, 89, 60, 27, 97, 47, 50, 98, 13, 22]\n",
      "44 winning_numbers: [62, 35, 76, 38, 61, 94, 29, 73, 80, 60]\n",
      "45 winning_numbers: [70, 26, 71, 47, 20, 80, 64, 67]\n",
      "46 winning_numbers: [72, 37, 74, 81, 14, 3, 29, 77, 5, 49]\n",
      "47 winning_numbers: [24, 15]\n",
      "48 winning_numbers: [87, 31, 80, 78, 83, 97, 92]\n",
      "50 winning_numbers: [66, 37, 36]\n",
      "51 winning_numbers: [81, 61, 94, 32, 54, 93, 33, 9, 1, 8]\n",
      "52 winning_numbers: [44, 2, 69, 86, 50, 53]\n",
      "53 winning_numbers: [7, 64, 23]\n",
      "54 winning_numbers: [99, 12, 96, 50]\n",
      "55 winning_numbers: [63, 33, 52, 47, 96]\n",
      "56 winning_numbers: [12, 72, 26]\n",
      "57 winning_numbers: [35, 11]\n",
      "58 winning_numbers: [38, 5, 20, 35]\n",
      "59 winning_numbers: [9, 22]\n",
      "60 winning_numbers: [59, 41]\n",
      "61 winning_numbers: [4]\n",
      "63 winning_numbers: [59, 9, 73, 17, 19, 30, 53, 67, 23, 46]\n",
      "64 winning_numbers: [68, 9, 86, 23]\n",
      "65 winning_numbers: [70, 47, 10, 59, 97, 66, 30, 6, 71, 96]\n",
      "66 winning_numbers: [16, 47, 83, 48, 73, 86, 14, 51, 55, 42]\n",
      "67 winning_numbers: [54, 25, 28, 78, 64, 20, 57, 95]\n",
      "68 winning_numbers: [5, 37]\n",
      "69 winning_numbers: [71, 66, 17]\n",
      "70 winning_numbers: [27, 62, 33, 52, 11, 39, 58, 75]\n",
      "71 winning_numbers: [38, 84, 8, 87, 77, 96, 80, 51]\n",
      "72 winning_numbers: [55, 20, 1, 72, 54, 78, 35, 30, 17, 87]\n",
      "73 winning_numbers: [66, 63, 75, 23]\n",
      "74 winning_numbers: [86, 17]\n",
      "75 winning_numbers: [22, 18, 76, 26]\n",
      "76 winning_numbers: [85, 91]\n",
      "77 winning_numbers: [1, 39, 33, 64, 11, 35]\n",
      "78 winning_numbers: [92, 33, 77]\n",
      "79 winning_numbers: [65, 57, 76, 60]\n",
      "80 winning_numbers: [6]\n",
      "81 winning_numbers: [13, 91, 42, 45]\n",
      "82 winning_numbers: [7]\n",
      "83 winning_numbers: [34, 99]\n",
      "84 winning_numbers: [84]\n",
      "87 winning_numbers: [77, 16, 3, 37, 20, 75, 17, 30, 63, 53]\n",
      "88 winning_numbers: [35, 19, 56, 41, 14, 43, 82, 93, 21, 72]\n",
      "89 winning_numbers: [37, 58, 71, 21, 38, 12, 49, 79, 43]\n",
      "90 winning_numbers: [13, 51, 63, 21, 29, 86]\n",
      "91 winning_numbers: [24, 20, 49, 50, 41, 10, 66]\n",
      "92 winning_numbers: [38, 95, 30, 50, 68, 73]\n",
      "93 winning_numbers: [86, 11, 20, 8, 87]\n",
      "94 winning_numbers: [7, 70, 76]\n",
      "95 winning_numbers: [18]\n",
      "96 winning_numbers: [99, 60]\n",
      "97 winning_numbers: [43, 27]\n",
      "98 winning_numbers: [4]\n",
      "99 winning_numbers: [15, 67]\n",
      "100 winning_numbers: [58]\n",
      "102 winning_numbers: [5, 92, 91, 34, 28, 23]\n",
      "103 winning_numbers: [97, 39, 93, 21, 34, 91, 89, 27]\n",
      "104 winning_numbers: [92, 51, 18, 46, 84, 54]\n",
      "105 winning_numbers: [11, 50, 4, 52]\n",
      "106 winning_numbers: [34, 63, 55]\n",
      "107 winning_numbers: [92, 10, 47, 55, 65, 85, 13, 41]\n",
      "108 winning_numbers: [43, 75]\n",
      "109 winning_numbers: [10, 89]\n",
      "110 winning_numbers: [95]\n",
      "111 winning_numbers: [96, 65, 2, 39]\n",
      "112 winning_numbers: [51]\n",
      "113 winning_numbers: [62, 46, 43]\n",
      "117 winning_numbers: [64, 82, 47]\n",
      "119 winning_numbers: [7, 87, 75, 59, 31, 61, 29, 33, 66, 39]\n",
      "120 winning_numbers: [68, 5]\n",
      "122 winning_numbers: [6]\n",
      "123 winning_numbers: [71, 94, 76, 77, 98, 48, 95, 75, 83, 17]\n",
      "124 winning_numbers: [95, 32, 4, 68, 36]\n",
      "125 winning_numbers: [88, 26, 45, 74, 65, 56, 53, 8]\n",
      "127 winning_numbers: [55, 95, 28, 54, 38, 83, 46, 67]\n",
      "128 winning_numbers: [47]\n",
      "129 winning_numbers: [87, 4]\n",
      "130 winning_numbers: [58, 41, 68, 98, 5, 4]\n",
      "131 winning_numbers: [59, 6, 7]\n",
      "132 winning_numbers: [65, 73, 64, 58]\n",
      "133 winning_numbers: [31, 12, 41, 99]\n",
      "135 winning_numbers: [67]\n",
      "136 winning_numbers: [1]\n",
      "138 winning_numbers: [39, 70, 36, 62, 71, 18, 92, 69, 24, 96]\n",
      "139 winning_numbers: [2, 11, 39, 42, 10, 52, 33, 71, 23, 31]\n",
      "140 winning_numbers: [47, 44, 18, 9, 54, 6, 31, 16, 83, 81]\n",
      "141 winning_numbers: [76, 54, 18]\n",
      "142 winning_numbers: [25, 14, 81, 19, 44, 77, 92, 76, 5, 54]\n",
      "143 winning_numbers: [7, 6, 5, 20, 64, 98, 97]\n",
      "144 winning_numbers: [1, 39]\n",
      "145 winning_numbers: [41, 69, 32, 57, 15, 74, 27, 61, 25, 78]\n",
      "146 winning_numbers: [11, 52, 81, 6, 4, 55, 73, 38, 46, 50]\n",
      "147 winning_numbers: [34, 14, 67, 27, 32, 70, 61, 86, 81, 72]\n",
      "148 winning_numbers: [80, 90, 17, 95, 51, 81, 61, 83, 50, 3]\n",
      "149 winning_numbers: [96, 30, 34, 82, 41, 76]\n",
      "150 winning_numbers: [28, 73]\n",
      "151 winning_numbers: [90, 70]\n",
      "152 winning_numbers: [96]\n",
      "153 winning_numbers: [44, 63, 29, 65, 41, 83, 42, 75]\n",
      "154 winning_numbers: [11, 85, 14]\n",
      "156 winning_numbers: [75, 99, 3, 48, 52]\n",
      "157 winning_numbers: [92, 86]\n",
      "158 winning_numbers: [91, 37]\n",
      "159 winning_numbers: [17, 67, 40]\n",
      "163 winning_numbers: [10, 76, 17, 14, 85, 43, 46, 54]\n",
      "164 winning_numbers: [81, 96, 18, 50, 20, 30]\n",
      "165 winning_numbers: [6, 13, 30, 68, 46, 80, 86, 84, 57]\n",
      "166 winning_numbers: [92, 95, 91, 88]\n",
      "167 winning_numbers: [32, 3, 18, 52, 95, 88, 51, 48]\n",
      "168 winning_numbers: [10, 4, 66, 71, 61, 25]\n",
      "169 winning_numbers: [16, 95, 49, 5, 4, 25, 82]\n",
      "170 winning_numbers: [93, 40, 45, 97, 57, 82, 8]\n",
      "171 winning_numbers: [52, 39, 94]\n",
      "172 winning_numbers: [36]\n",
      "173 winning_numbers: [53, 23, 87, 93, 61, 30, 45, 74, 27]\n",
      "175 winning_numbers: [48, 56, 41, 35, 51]\n",
      "177 winning_numbers: [85]\n",
      "178 winning_numbers: [69, 24]\n",
      "180 winning_numbers: [82, 3]\n",
      "183 winning_numbers: [49, 99, 65, 54, 76, 36, 10]\n",
      "184 winning_numbers: [77, 29, 7, 74, 5, 22, 75, 27, 44, 45]\n",
      "185 winning_numbers: [1, 23, 90, 57, 91, 26, 84, 59, 36]\n",
      "186 winning_numbers: [44, 80, 8, 63, 43, 30, 53, 85, 67, 96]\n",
      "187 winning_numbers: [59, 74, 79]\n",
      "188 winning_numbers: [35, 18, 56, 44, 57, 22, 27, 99, 39]\n",
      "189 winning_numbers: [89, 67]\n",
      "190 winning_numbers: [48, 52, 3, 10, 95, 59, 76, 44]\n",
      "191 winning_numbers: [31, 97, 75, 42, 34, 80, 6, 99]\n",
      "192 winning_numbers: [24, 45, 40, 81, 14, 92, 6]\n",
      "193 winning_numbers: [79]\n",
      "194 winning_numbers: [24, 15]\n",
      "195 winning_numbers: [42, 26, 75]\n",
      "196 winning_numbers: [52, 26]\n",
      "198 winning_numbers: [28, 77]\n",
      "199 winning_numbers: [61]\n"
     ]
    }
   ],
   "source": [
    "sum_of_winnings = 0\n",
    "for idx,d in enumerate(data):\n",
    "    l,r = d.split('|')\n",
    "    _,l = l.split(':')\n",
    "    l = l.split(' ')\n",
    "    while '' in l: l.remove('')\n",
    "    r = r.split(' ')\n",
    "    while '' in r: r.remove('')\n",
    "    r = list(map(int, r))\n",
    "    winning_numbers = list(map(int, l))\n",
    "    matched_numbers = []\n",
    "    for wn in winning_numbers:\n",
    "        if wn in r:\n",
    "            matched_numbers.append(wn)\n",
    "    if len(matched_numbers)>0:\n",
    "        print(idx,'winning_numbers:', matched_numbers)\n",
    "        sum_of_winnings += 2**(len(matched_numbers)-1)"
   ]
  },
  {
   "cell_type": "code",
   "execution_count": 50,
   "id": "79daf665",
   "metadata": {
    "ExecuteTime": {
     "end_time": "2023-12-04T07:21:57.680140Z",
     "start_time": "2023-12-04T07:21:57.676834Z"
    }
   },
   "outputs": [],
   "source": [
    "def prep(d):\n",
    "    l,r = d.split('|')\n",
    "    _,l = l.split(':')\n",
    "    l = l.split(' ')\n",
    "    while '' in l: l.remove('')\n",
    "    r = r.split(' ')\n",
    "    while '' in r: r.remove('')\n",
    "    r = list(map(int, r))\n",
    "    winning_numbers = list(map(int, l))\n",
    "    return winning_numbers, r"
   ]
  },
  {
   "cell_type": "code",
   "execution_count": 57,
   "id": "dd542c70",
   "metadata": {
    "ExecuteTime": {
     "end_time": "2023-12-04T07:25:10.622457Z",
     "start_time": "2023-12-04T07:24:54.114960Z"
    }
   },
   "outputs": [],
   "source": [
    "scratchard_winnings = []\n",
    "scratchards_count = 0\n",
    "scratchcard_analyze = [1]*len(data)\n",
    "for idx,d in enumerate(data):\n",
    "    r, winning_numbers = prep(d)\n",
    "    for _ in range(scratchcard_analyze[idx]):\n",
    "        matched_numbers = []\n",
    "        for wn in winning_numbers:\n",
    "            if wn in r:\n",
    "                matched_numbers.append(wn)\n",
    "        for i in range(1,len(matched_numbers)+1):\n",
    "            scratchcard_analyze[idx+i] += 1\n",
    "    "
   ]
  },
  {
   "cell_type": "code",
   "execution_count": 59,
   "id": "6b69175f",
   "metadata": {
    "ExecuteTime": {
     "end_time": "2023-12-04T07:25:17.718977Z",
     "start_time": "2023-12-04T07:25:17.715903Z"
    }
   },
   "outputs": [
    {
     "data": {
      "text/plain": [
       "5489600"
      ]
     },
     "execution_count": 59,
     "metadata": {},
     "output_type": "execute_result"
    }
   ],
   "source": [
    "sum(scratchcard_analyze)"
   ]
  },
  {
   "cell_type": "code",
   "execution_count": 44,
   "id": "6c515673",
   "metadata": {
    "ExecuteTime": {
     "end_time": "2023-12-04T07:13:51.250011Z",
     "start_time": "2023-12-04T07:13:51.246873Z"
    }
   },
   "outputs": [
    {
     "data": {
      "text/plain": [
       "20855"
      ]
     },
     "execution_count": 44,
     "metadata": {},
     "output_type": "execute_result"
    }
   ],
   "source": [
    "sum_of_winnings"
   ]
  },
  {
   "cell_type": "code",
   "execution_count": null,
   "id": "395cc010",
   "metadata": {},
   "outputs": [],
   "source": []
  }
 ],
 "metadata": {
  "hide_input": false,
  "kernelspec": {
   "display_name": "Conda base",
   "language": "python",
   "name": "conda_base"
  },
  "language_info": {
   "codemirror_mode": {
    "name": "ipython",
    "version": 3
   },
   "file_extension": ".py",
   "mimetype": "text/x-python",
   "name": "python",
   "nbconvert_exporter": "python",
   "pygments_lexer": "ipython3",
   "version": "3.10.10"
  },
  "varInspector": {
   "cols": {
    "lenName": 16,
    "lenType": 16,
    "lenVar": 40
   },
   "kernels_config": {
    "python": {
     "delete_cmd_postfix": "",
     "delete_cmd_prefix": "del ",
     "library": "var_list.py",
     "varRefreshCmd": "print(var_dic_list())"
    },
    "r": {
     "delete_cmd_postfix": ") ",
     "delete_cmd_prefix": "rm(",
     "library": "var_list.r",
     "varRefreshCmd": "cat(var_dic_list()) "
    }
   },
   "types_to_exclude": [
    "module",
    "function",
    "builtin_function_or_method",
    "instance",
    "_Feature"
   ],
   "window_display": false
  }
 },
 "nbformat": 4,
 "nbformat_minor": 5
}
