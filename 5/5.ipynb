{
 "cells": [
  {
   "cell_type": "code",
   "execution_count": 1,
   "id": "7fcf22f6",
   "metadata": {},
   "outputs": [],
   "source": [
    "import numpy as np"
   ]
  },
  {
   "cell_type": "code",
   "execution_count": 240,
   "id": "1d487f7e",
   "metadata": {},
   "outputs": [],
   "source": [
    "seeds = np.loadtxt('5_seeds.txt').astype(int)\n",
    "sts = np.loadtxt('5_seed_to_soil.txt').astype(int)\n",
    "stf = np.loadtxt('5_soil_to_fertilizer').astype(int)\n",
    "ftw = np.loadtxt('5_fertilizer_to_water.txt').astype(int)\n",
    "wtl = np.loadtxt('5_water_to_light.txt').astype(int)\n",
    "ltt = np.loadtxt('5_light_to_temperature.txt').astype(int)\n",
    "tth = np.loadtxt('5_temperature_to_humidity.txt').astype(int)\n",
    "htl = np.loadtxt('5_humidity_to_location.txt').astype(int)\n",
    "maps = [sts,stf,ftw,wtl,ltt,tth,htl]"
   ]
  },
  {
   "cell_type": "code",
   "execution_count": 256,
   "id": "1dea03c4",
   "metadata": {},
   "outputs": [],
   "source": [
    "seeds = [79,14,55,13]\n",
    "sts = [[50,98,2],[52,50,48]]\n",
    "stf = [[0,15,37],[37,52,2],[39,0,15]]\n",
    "ftw = [[49,53,8],[0,11,42],[42,0,7],[57,7,4]]\n",
    "wtl = [[88,18,7],[18,25,70]]\n",
    "ltt = [[45,77,23],[81,45,19],[68,64,13]]\n",
    "tth = [[0,69,1],[1,0,69]]\n",
    "htl = [[60,56,37],[56,93,4]]\n",
    "maps = [sts,stf,ftw,wtl,ltt,tth,htl]"
   ]
  },
  {
   "cell_type": "code",
   "execution_count": 241,
   "id": "df8c43ce",
   "metadata": {},
   "outputs": [],
   "source": [
    "changes_all = []\n",
    "for idx,s in enumerate(seeds):\n",
    "    changes = [s]\n",
    "    for m in maps:\n",
    "        ranges = []\n",
    "        maps_concrete = []\n",
    "        for m_v in m:\n",
    "            ranges.append([m_v[0],m_v[1], m_v[1]+m_v[2]])\n",
    "        mapped = False\n",
    "        for r in ranges:\n",
    "            if r[1] <= seeds[idx] <= r[2]:\n",
    "                s_ = seeds[idx]\n",
    "                seeds[idx] = r[0]+s_-r[1]\n",
    "                changes.append(r[0]+s_-r[1])\n",
    "                mapped = True\n",
    "                break\n",
    "        if not mapped:\n",
    "            changes.append(seeds[idx]) \n",
    "    changes_all.append(changes)\n",
    "            "
   ]
  },
  {
   "cell_type": "code",
   "execution_count": 247,
   "id": "63d8bb03",
   "metadata": {},
   "outputs": [
    {
     "data": {
      "text/plain": [
       "10"
      ]
     },
     "execution_count": 247,
     "metadata": {},
     "output_type": "execute_result"
    }
   ],
   "source": [
    "len(seeds)//2"
   ]
  },
  {
   "cell_type": "code",
   "execution_count": 252,
   "id": "f978cbe5",
   "metadata": {},
   "outputs": [],
   "source": [
    "seeds_range = []\n",
    "for i in range(len(seeds)//2):\n",
    "    seeds_range.append([seeds[i*2],seeds[i*2+1]])"
   ]
  },
  {
   "cell_type": "code",
   "execution_count": null,
   "id": "f7d0b616",
   "metadata": {},
   "outputs": [],
   "source": [
    "min_seed = 10000000000000000\n",
    "for a,b in seeds_range:\n",
    "    for i in range(b):\n",
    "        seeds = [a+i]\n",
    "        for idx,s in enumerate(seeds):\n",
    "            changes = [s]\n",
    "            for m in maps:\n",
    "                ranges = []\n",
    "                maps_concrete = []\n",
    "                for m_v in m:\n",
    "                    if m_v[1] <= seeds[idx] <= m_v[1]+m_v[2]:\n",
    "                        s_ = seeds[idx]\n",
    "                        seeds[idx] = m_v[0]+s_-m_v[1]\n",
    "                        break\n",
    "        min_seed = min([seeds[0],min_seed])"
   ]
  },
  {
   "cell_type": "code",
   "execution_count": 242,
   "id": "04240a69",
   "metadata": {},
   "outputs": [
    {
     "data": {
      "text/plain": [
       "579439039"
      ]
     },
     "execution_count": 242,
     "metadata": {},
     "output_type": "execute_result"
    }
   ],
   "source": [
    "min(seeds)"
   ]
  },
  {
   "cell_type": "code",
   "execution_count": null,
   "id": "08761dd5",
   "metadata": {},
   "outputs": [],
   "source": [
    "min_seed"
   ]
  },
  {
   "cell_type": "code",
   "execution_count": null,
   "id": "f77cf107",
   "metadata": {},
   "outputs": [],
   "source": []
  }
 ],
 "metadata": {
  "kernelspec": {
   "display_name": "Python 3 (ipykernel)",
   "language": "python",
   "name": "python3"
  },
  "language_info": {
   "codemirror_mode": {
    "name": "ipython",
    "version": 3
   },
   "file_extension": ".py",
   "mimetype": "text/x-python",
   "name": "python",
   "nbconvert_exporter": "python",
   "pygments_lexer": "ipython3",
   "version": "3.10.9"
  },
  "varInspector": {
   "cols": {
    "lenName": 16,
    "lenType": 16,
    "lenVar": 40
   },
   "kernels_config": {
    "python": {
     "delete_cmd_postfix": "",
     "delete_cmd_prefix": "del ",
     "library": "var_list.py",
     "varRefreshCmd": "print(var_dic_list())"
    },
    "r": {
     "delete_cmd_postfix": ") ",
     "delete_cmd_prefix": "rm(",
     "library": "var_list.r",
     "varRefreshCmd": "cat(var_dic_list()) "
    }
   },
   "types_to_exclude": [
    "module",
    "function",
    "builtin_function_or_method",
    "instance",
    "_Feature"
   ],
   "window_display": false
  }
 },
 "nbformat": 4,
 "nbformat_minor": 5
}
